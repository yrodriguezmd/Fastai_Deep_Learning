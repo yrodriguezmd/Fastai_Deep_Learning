{
  "nbformat": 4,
  "nbformat_minor": 0,
  "metadata": {
    "colab": {
      "name": "figuring_out_accuracy_multi.ipynb",
      "provenance": [],
      "collapsed_sections": [],
      "include_colab_link": true
    },
    "kernelspec": {
      "display_name": "Python 3",
      "language": "python",
      "name": "python3"
    },
    "language_info": {
      "codemirror_mode": {
        "name": "ipython",
        "version": 3
      },
      "file_extension": ".py",
      "mimetype": "text/x-python",
      "name": "python",
      "nbconvert_exporter": "python",
      "pygments_lexer": "ipython3",
      "version": "3.8.3"
    }
  },
  "cells": [
    {
      "cell_type": "markdown",
      "metadata": {
        "id": "view-in-github",
        "colab_type": "text"
      },
      "source": [
        "<a href=\"https://colab.research.google.com/github/yrodriguezmd/Fastai_Deep_Learning/blob/main/figuring_out_accuracy_multi.ipynb\" target=\"_parent\"><img src=\"https://colab.research.google.com/assets/colab-badge.svg\" alt=\"Open In Colab\"/></a>"
      ]
    },
    {
      "cell_type": "code",
      "metadata": {
        "colab": {
          "base_uri": "https://localhost:8080/"
        },
        "id": "qX2JqC5g9dRa",
        "outputId": "23b54666-8b2c-4a4b-f9c9-69316ab5031b"
      },
      "source": [
        "!pip install -Uqq fastbook\n",
        "import fastbook\n",
        "fastbook.setup_book()\n",
        "from fastbook import *\n",
        "#!pip install fastai -U\n",
        "import fastai\n",
        "from fastai.vision.all import *"
      ],
      "execution_count": null,
      "outputs": [
        {
          "output_type": "stream",
          "text": [
            "\u001b[K     |████████████████████████████████| 720 kB 4.1 MB/s \n",
            "\u001b[K     |████████████████████████████████| 188 kB 44.7 MB/s \n",
            "\u001b[K     |████████████████████████████████| 1.2 MB 39.5 MB/s \n",
            "\u001b[K     |████████████████████████████████| 46 kB 3.6 MB/s \n",
            "\u001b[K     |████████████████████████████████| 54 kB 1.8 MB/s \n",
            "\u001b[K     |████████████████████████████████| 51 kB 173 kB/s \n",
            "\u001b[?25hMounted at /content/gdrive\n"
          ],
          "name": "stdout"
        }
      ]
    },
    {
      "cell_type": "code",
      "metadata": {
        "id": "_TaxMQFHETs3"
      },
      "source": [
        "a = tensor ( [[1,1,1], [1,1,1]] )\n",
        "b = tensor ( [[1,1,1], [1,1,1]] )"
      ],
      "execution_count": null,
      "outputs": []
    },
    {
      "cell_type": "code",
      "metadata": {
        "colab": {
          "base_uri": "https://localhost:8080/"
        },
        "id": "JsbnTjGjEhf2",
        "outputId": "2c1e4abe-cc2a-40c5-c9d3-01a7da9de37f"
      },
      "source": [
        "a"
      ],
      "execution_count": null,
      "outputs": [
        {
          "output_type": "execute_result",
          "data": {
            "text/plain": [
              "tensor([[1, 1, 1],\n",
              "        [1, 1, 1]])"
            ]
          },
          "metadata": {
            "tags": []
          },
          "execution_count": 58
        }
      ]
    },
    {
      "cell_type": "code",
      "metadata": {
        "id": "PoHhciSoEmxd"
      },
      "source": [
        "def accuracy_multi(inp, targ, thresh = 0.5, sigmoid = True):\n",
        "    if sigmoid: inp = inp.sigmoid()\n",
        "    return(( inp> thresh) == targ.bool()).float().mean()"
      ],
      "execution_count": null,
      "outputs": []
    },
    {
      "cell_type": "code",
      "metadata": {
        "colab": {
          "base_uri": "https://localhost:8080/"
        },
        "id": "T4V19YWzaqzj",
        "outputId": "ce22d282-995f-4bf8-da74-40ef3b5fe60a"
      },
      "source": [
        "a = tensor ( [[1,1,1], [1,1,1]] )\n",
        "b = tensor ( [[1,1,1], [1,1,1]] )\n",
        "\n",
        "accuracy_multi(a, b)"
      ],
      "execution_count": null,
      "outputs": [
        {
          "output_type": "execute_result",
          "data": {
            "text/plain": [
              "tensor(1.)"
            ]
          },
          "metadata": {
            "tags": []
          },
          "execution_count": 113
        }
      ]
    },
    {
      "cell_type": "code",
      "metadata": {
        "colab": {
          "base_uri": "https://localhost:8080/"
        },
        "id": "POvr-P4xmOLy",
        "outputId": "4e08033f-bddd-4318-891a-b860bcb3fbcf"
      },
      "source": [
        "a = tensor ( [[0,0,0], [0,0,0]] )\n",
        "b = tensor ( [[1,1,1], [1,1,1]] )\n",
        "\n",
        "accuracy_multi(a, b)"
      ],
      "execution_count": null,
      "outputs": [
        {
          "output_type": "execute_result",
          "data": {
            "text/plain": [
              "tensor(0.)"
            ]
          },
          "metadata": {
            "tags": []
          },
          "execution_count": 66
        }
      ]
    },
    {
      "cell_type": "code",
      "metadata": {
        "colab": {
          "base_uri": "https://localhost:8080/"
        },
        "id": "ATfJucgranH1",
        "outputId": "21862d87-b633-4a7b-a742-bca118aebaf7"
      },
      "source": [
        "accuracy_multi(b,a)"
      ],
      "execution_count": null,
      "outputs": [
        {
          "output_type": "execute_result",
          "data": {
            "text/plain": [
              "tensor(0.)"
            ]
          },
          "metadata": {
            "tags": []
          },
          "execution_count": 67
        }
      ]
    },
    {
      "cell_type": "code",
      "metadata": {
        "colab": {
          "base_uri": "https://localhost:8080/"
        },
        "id": "SJS8-5NLa8f2",
        "outputId": "fba29a37-6449-4964-f2be-06ad0267c69a"
      },
      "source": [
        "a = tensor ( [[1,1,1], [0,0,0]] )\n",
        "b = tensor ( [[1,1,1], [1,1,1]] )\n",
        "\n",
        "accuracy_multi(a, b)"
      ],
      "execution_count": null,
      "outputs": [
        {
          "output_type": "execute_result",
          "data": {
            "text/plain": [
              "tensor(0.5000)"
            ]
          },
          "metadata": {
            "tags": []
          },
          "execution_count": 68
        }
      ]
    },
    {
      "cell_type": "code",
      "metadata": {
        "colab": {
          "base_uri": "https://localhost:8080/"
        },
        "id": "V007H11ubVN7",
        "outputId": "a7307a07-a1d5-48f7-84b8-3a5da296341b"
      },
      "source": [
        "a = tensor ( [[1,1,1], [1,0,0]] )\n",
        "b = tensor ( [[1,1,1], [1,1,1]] )\n",
        "\n",
        "accuracy_multi(a, b)"
      ],
      "execution_count": null,
      "outputs": [
        {
          "output_type": "execute_result",
          "data": {
            "text/plain": [
              "tensor(0.6667)"
            ]
          },
          "metadata": {
            "tags": []
          },
          "execution_count": 69
        }
      ]
    },
    {
      "cell_type": "code",
      "metadata": {
        "colab": {
          "base_uri": "https://localhost:8080/"
        },
        "id": "na6LRh1kbJp9",
        "outputId": "71338c0b-7e7a-4076-bbc8-6904170fcd92"
      },
      "source": [
        "a = tensor ( [[1,1,0], [1,1,0]] )\n",
        "b = tensor ( [[1,1,1], [1,1,1]] )\n",
        "\n",
        "accuracy_multi(a, b)"
      ],
      "execution_count": null,
      "outputs": [
        {
          "output_type": "execute_result",
          "data": {
            "text/plain": [
              "tensor(0.6667)"
            ]
          },
          "metadata": {
            "tags": []
          },
          "execution_count": 111
        }
      ]
    },
    {
      "cell_type": "code",
      "metadata": {
        "colab": {
          "base_uri": "https://localhost:8080/"
        },
        "id": "aSkCZf8Aa2mA",
        "outputId": "17f569ca-1505-45cb-c2bf-1ea779f3abb0"
      },
      "source": [
        "accuracy_multi(b,a)"
      ],
      "execution_count": null,
      "outputs": [
        {
          "output_type": "execute_result",
          "data": {
            "text/plain": [
              "tensor(0.6667)"
            ]
          },
          "metadata": {
            "tags": []
          },
          "execution_count": 112
        }
      ]
    },
    {
      "cell_type": "code",
      "metadata": {
        "colab": {
          "base_uri": "https://localhost:8080/"
        },
        "id": "Dlpb9hFpqLmh",
        "outputId": "474a4caf-1882-41d3-f00f-049e52b1d63f"
      },
      "source": [
        "a = tensor ( [[1,1,1], [0,0,0]] )\n",
        "b = tensor ( [[1,1,1], [1,0,0]] )\n",
        "\n",
        "accuracy_multi(a, b)"
      ],
      "execution_count": null,
      "outputs": [
        {
          "output_type": "execute_result",
          "data": {
            "text/plain": [
              "tensor(0.8333)"
            ]
          },
          "metadata": {
            "tags": []
          },
          "execution_count": 117
        }
      ]
    },
    {
      "cell_type": "code",
      "metadata": {
        "id": "hBP0sNjocDQ2"
      },
      "source": [
        "def accuracy_multi(inp, targ, thresh = 0.5, sigmoid = True):\n",
        "    if sigmoid: inp = inp.sigmoid()\n",
        "    return(( inp> thresh) == targ.bool()).float().mean()"
      ],
      "execution_count": null,
      "outputs": []
    },
    {
      "cell_type": "code",
      "metadata": {
        "colab": {
          "base_uri": "https://localhost:8080/"
        },
        "id": "-yCPBJ6zcAVU",
        "outputId": "a47c53af-0cdd-47b6-91f3-0a81bda3bb0b"
      },
      "source": [
        "b = tensor ( [[1,1,1], [1,1,1]] )\n",
        "\n",
        "b.sigmoid()"
      ],
      "execution_count": null,
      "outputs": [
        {
          "output_type": "execute_result",
          "data": {
            "text/plain": [
              "tensor([[0.7311, 0.7311, 0.7311],\n",
              "        [0.7311, 0.7311, 0.7311]])"
            ]
          },
          "metadata": {
            "tags": []
          },
          "execution_count": 72
        }
      ]
    },
    {
      "cell_type": "code",
      "metadata": {
        "colab": {
          "base_uri": "https://localhost:8080/"
        },
        "id": "6Db_BCXEcKV_",
        "outputId": "5cfd3124-4d37-44e0-9593-363f8e4f6ebc"
      },
      "source": [
        "sigmoid(tensor(1,0))"
      ],
      "execution_count": null,
      "outputs": [
        {
          "output_type": "execute_result",
          "data": {
            "text/plain": [
              "tensor([0.7311, 0.5000])"
            ]
          },
          "metadata": {
            "tags": []
          },
          "execution_count": 74
        }
      ]
    },
    {
      "cell_type": "code",
      "metadata": {
        "colab": {
          "base_uri": "https://localhost:8080/"
        },
        "id": "36yFmNjXcpqi",
        "outputId": "21b97c11-7a0f-4faf-8935-c62e9e82456a"
      },
      "source": [
        "sigmoid( tensor (-5, 0, 5))"
      ],
      "execution_count": null,
      "outputs": [
        {
          "output_type": "execute_result",
          "data": {
            "text/plain": [
              "tensor([0.0067, 0.5000, 0.9933])"
            ]
          },
          "metadata": {
            "tags": []
          },
          "execution_count": 75
        }
      ]
    },
    {
      "cell_type": "code",
      "metadata": {
        "colab": {
          "base_uri": "https://localhost:8080/"
        },
        "id": "LhjkNU2ldNGY",
        "outputId": "e5de4357-3bf8-4f9f-ba60-5d23a9bf846f"
      },
      "source": [
        "sigmoid( tensor (-5, 0.001, 5))"
      ],
      "execution_count": null,
      "outputs": [
        {
          "output_type": "execute_result",
          "data": {
            "text/plain": [
              "tensor([0.0067, 0.5002, 0.9933])"
            ]
          },
          "metadata": {
            "tags": []
          },
          "execution_count": 82
        }
      ]
    },
    {
      "cell_type": "code",
      "metadata": {
        "id": "gLrlSwNVetiW"
      },
      "source": [
        "def accuracy_multi_a(inp, targ, thresh = 0.5, sigmoid = True):\n",
        "    if sigmoid: inp = inp.sigmoid()\n",
        "    return( inp)"
      ],
      "execution_count": null,
      "outputs": []
    },
    {
      "cell_type": "code",
      "metadata": {
        "colab": {
          "base_uri": "https://localhost:8080/"
        },
        "id": "Vx3aKdp1ewkr",
        "outputId": "114bd2b0-f873-4d58-b83f-268ba6ed7ebc"
      },
      "source": [
        "a = tensor ( [[1,1,0], [1,1,0]] )\n",
        "b = tensor ( [[1,1,1], [1,1,1]] )\n",
        "\n",
        "accuracy_multi_a(a,b)"
      ],
      "execution_count": null,
      "outputs": [
        {
          "output_type": "execute_result",
          "data": {
            "text/plain": [
              "tensor([[0.7311, 0.7311, 0.5000],\n",
              "        [0.7311, 0.7311, 0.5000]])"
            ]
          },
          "metadata": {
            "tags": []
          },
          "execution_count": 100
        }
      ]
    },
    {
      "cell_type": "code",
      "metadata": {
        "id": "Cx50VfPvd6Sg"
      },
      "source": [
        "def accuracy_multi_b(inp, targ, thresh = 0.5, sigmoid = True):\n",
        "    if sigmoid: inp = inp.sigmoid()\n",
        "    return( inp> thresh) "
      ],
      "execution_count": null,
      "outputs": []
    },
    {
      "cell_type": "code",
      "metadata": {
        "colab": {
          "base_uri": "https://localhost:8080/"
        },
        "id": "0H4oukuCa2ad",
        "outputId": "677fcc82-6792-4ce9-a95d-1e21f075d0fc"
      },
      "source": [
        "a = tensor ( [[1,1,0], [1,1,0]] )\n",
        "b = tensor ( [[1,1,1], [1,1,1]] )\n",
        "\n",
        "print(accuracy_multi_a(a,b))\n",
        "print(accuracy_multi_b(a,b))"
      ],
      "execution_count": null,
      "outputs": [
        {
          "output_type": "stream",
          "text": [
            "tensor([[0.7311, 0.7311, 0.5000],\n",
            "        [0.7311, 0.7311, 0.5000]])\n",
            "tensor([[ True,  True, False],\n",
            "        [ True,  True, False]])\n"
          ],
          "name": "stdout"
        }
      ]
    },
    {
      "cell_type": "code",
      "metadata": {
        "id": "Z8AkmPZZeV8h"
      },
      "source": [
        "def accuracy_multi_c(inp, targ, thresh = 0.5, sigmoid = True):\n",
        "    if sigmoid: inp = inp.sigmoid()\n",
        "    return(( inp> thresh) == targ.bool())"
      ],
      "execution_count": null,
      "outputs": []
    },
    {
      "cell_type": "code",
      "metadata": {
        "colab": {
          "base_uri": "https://localhost:8080/"
        },
        "id": "hBiTMAj9eDaJ",
        "outputId": "ef2df7b5-e97f-4a68-fe5f-1338364eaf8c"
      },
      "source": [
        "a = tensor ( [[1,1,0], [1,1,0]] )\n",
        "b = tensor ( [[1,1,1], [1,1,1]] )\n",
        "\n",
        "accuracy_multi_c(a,b)"
      ],
      "execution_count": null,
      "outputs": [
        {
          "output_type": "execute_result",
          "data": {
            "text/plain": [
              "tensor([[ True,  True, False],\n",
              "        [ True,  True, False]])"
            ]
          },
          "metadata": {
            "tags": []
          },
          "execution_count": 104
        }
      ]
    },
    {
      "cell_type": "code",
      "metadata": {
        "id": "ZqXzwzy4gbqK"
      },
      "source": [
        "def accuracy_multi_d(inp, targ, thresh = 0.5, sigmoid = True):\n",
        "    if sigmoid: inp = inp.sigmoid()\n",
        "    return(( inp> thresh) == targ.bool()).float()"
      ],
      "execution_count": null,
      "outputs": []
    },
    {
      "cell_type": "code",
      "metadata": {
        "colab": {
          "base_uri": "https://localhost:8080/"
        },
        "id": "TBJFGJX_efQw",
        "outputId": "a6dce16a-6683-478c-d16c-4817524efd5d"
      },
      "source": [
        "accuracy_multi_d(a,b)"
      ],
      "execution_count": null,
      "outputs": [
        {
          "output_type": "execute_result",
          "data": {
            "text/plain": [
              "tensor([[1., 1., 0.],\n",
              "        [1., 1., 0.]])"
            ]
          },
          "metadata": {
            "tags": []
          },
          "execution_count": 108
        }
      ]
    },
    {
      "cell_type": "code",
      "metadata": {
        "id": "a5R_lvJdgn6B"
      },
      "source": [
        "def accuracy_multi(inp, targ, thresh = 0.5, sigmoid = True):\n",
        "    if sigmoid: inp = inp.sigmoid()\n",
        "    return(( inp> thresh) == targ.bool()).float().mean()"
      ],
      "execution_count": null,
      "outputs": []
    },
    {
      "cell_type": "code",
      "metadata": {
        "colab": {
          "base_uri": "https://localhost:8080/"
        },
        "id": "plNA--W0girD",
        "outputId": "1635d52c-9083-4cea-a5e9-6a7b7c7585d3"
      },
      "source": [
        "accuracy_multi(a,b)"
      ],
      "execution_count": null,
      "outputs": [
        {
          "output_type": "execute_result",
          "data": {
            "text/plain": [
              "tensor(0.6667)"
            ]
          },
          "metadata": {
            "tags": []
          },
          "execution_count": 110
        }
      ]
    },
    {
      "cell_type": "code",
      "metadata": {
        "id": "317ZORjEgrYA"
      },
      "source": [
        ""
      ],
      "execution_count": null,
      "outputs": []
    },
    {
      "cell_type": "code",
      "metadata": {
        "id": "7Ara6o7FeFd9"
      },
      "source": [
        ""
      ],
      "execution_count": null,
      "outputs": []
    },
    {
      "cell_type": "code",
      "metadata": {
        "id": "A4i-nE_eeFUW"
      },
      "source": [
        ""
      ],
      "execution_count": null,
      "outputs": []
    },
    {
      "cell_type": "code",
      "metadata": {
        "id": "yzLfKdXBXqMc"
      },
      "source": [
        ""
      ],
      "execution_count": null,
      "outputs": []
    },
    {
      "cell_type": "code",
      "metadata": {
        "id": "kRNANw3PX-rZ"
      },
      "source": [
        ""
      ],
      "execution_count": null,
      "outputs": []
    },
    {
      "cell_type": "code",
      "metadata": {
        "id": "dMw4GZAcXbb5"
      },
      "source": [
        ""
      ],
      "execution_count": null,
      "outputs": []
    },
    {
      "cell_type": "code",
      "metadata": {
        "id": "YO8UeB8pXNGb"
      },
      "source": [
        ""
      ],
      "execution_count": null,
      "outputs": []
    },
    {
      "cell_type": "code",
      "metadata": {
        "id": "14XxJlEmXFee"
      },
      "source": [
        ""
      ],
      "execution_count": null,
      "outputs": []
    },
    {
      "cell_type": "code",
      "metadata": {
        "id": "kbT56rT7Rewz"
      },
      "source": [
        ""
      ],
      "execution_count": null,
      "outputs": []
    }
  ]
}